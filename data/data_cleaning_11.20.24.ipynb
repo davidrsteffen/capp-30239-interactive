{
 "cells": [
  {
   "cell_type": "code",
   "execution_count": 1,
   "id": "78ba573e-6d52-4d6c-8b87-1e05dd6009d5",
   "metadata": {},
   "outputs": [],
   "source": [
    "import pandas as pd\n"
   ]
  },
  {
   "cell_type": "code",
   "execution_count": 124,
   "id": "be968ccc-4572-43ab-947a-e1be7c569994",
   "metadata": {},
   "outputs": [],
   "source": [
    "# Income data cleaning\n",
    "income = pd.read_csv('income.csv', index_col=0, thousands=',').T\n",
    "\n",
    "pct_cols = []\n",
    "\n",
    "# ChatGPT: regex handling help, gave me the regex and the filter lines\n",
    "for suffix in income.columns.str.extract(r'^.*?_(.*)', expand=False).unique():\n",
    "    total_col = income.filter(regex=f'total_{suffix}').columns\n",
    "    with_col = income.filter(regex=f'with_{suffix}').columns\n",
    "    \n",
    "    pct_col = f'pct_{suffix}'\n",
    "\n",
    "    income[pct_col] = income[with_col[0]] / income[total_col[0]]\n",
    "\n",
    "data_to_use = income.filter(regex=f'pct_').copy()\n",
    "\n",
    "data_to_use['state'] = income.index\n",
    "\n",
    "melted = data_to_use.melt(id_vars= \"state\",\n",
    "                        var_name=\"variable\", \n",
    "                        value_name=\"value\")\n",
    "\n",
    "melted[['pct', 'level', 'age', 'type']] = melted['variable'].str.split('_', expand=True)\n",
    "\n",
    "melted = melted.drop(columns=['variable', 'pct'])\n",
    "\n",
    "melted.to_csv('income_clean.csv') "
   ]
  },
  {
   "cell_type": "code",
   "execution_count": 125,
   "id": "08305332-6d71-469d-a534-42012eb59e76",
   "metadata": {},
   "outputs": [],
   "source": [
    "# Race/ethnicity data cleaning\n",
    "race_eth = pd.read_csv('race_ethnicity.csv', index_col=0, thousands=',').T\n",
    "\n",
    "pct_cols = []\n",
    "\n",
    "race_eth.columns.str.extract(r'^.*?_(.*)', expand=False).unique()\n",
    "\n",
    "# ChatGPT: regex handling help, gave me the regex and the filter lines\n",
    "for suffix in race_eth.columns.str.extract(r'^.*?_(.*)', expand=False).unique():\n",
    "    total_col = race_eth.filter(regex=f'total_{suffix}').columns\n",
    "    with_col = race_eth.filter(regex=f'with_{suffix}').columns\n",
    "    \n",
    "    pct_col = f'pct_{suffix}'\n",
    "\n",
    "    race_eth[pct_col] = race_eth[with_col[0]] / race_eth[total_col[0]]\n",
    "\n",
    "data_to_use = race_eth.filter(regex=f'pct_').copy()\n",
    "\n",
    "data_to_use['state'] = race_eth.index\n",
    "\n",
    "melted = data_to_use.melt(id_vars= \"state\",\n",
    "                        var_name=\"variable\", \n",
    "                        value_name=\"value\")\n",
    "\n",
    "melted[['pct', 'age', 'level']] = melted['variable'].str.split('_', expand=True)\n",
    "\n",
    "melted = melted.drop(columns=['variable', 'pct'])\n",
    "\n",
    "melted.to_csv('race_ethnicity_clean.csv') "
   ]
  },
  {
   "cell_type": "code",
   "execution_count": 126,
   "id": "727bf8fd-7aeb-49f0-9ef8-16446865f77c",
   "metadata": {},
   "outputs": [],
   "source": [
    "# Insurance type data cleaning\n",
    "insurance_type = pd.read_csv('insurance_type.csv', index_col=0, thousands=',').T\n",
    "\n",
    "pct_cols = []\n",
    "\n",
    "# ChatGPT: regex handling help, gave me the regex and the filter lines\n",
    "for suffix in insurance_type.columns.str.extract(r'^.*?_(.*)', expand=False).unique():\n",
    "    total_col = insurance_type.filter(regex=f'total_{suffix}').columns\n",
    "    with_col = insurance_type.filter(regex=f'with_{suffix}').columns\n",
    "    \n",
    "    pct_col = f'pct_{suffix}'\n",
    "\n",
    "    insurance_type[pct_col] = insurance_type[with_col[0]] / insurance_type[total_col[0]]\n",
    "\n",
    "data_to_use = insurance_type.filter(regex=f'pct_').copy()\n",
    "\n",
    "data_to_use['state'] = insurance_type.index\n",
    "\n",
    "melted = data_to_use.melt(id_vars= \"state\",\n",
    "                        var_name=\"variable\", \n",
    "                        value_name=\"value\")\n",
    "\n",
    "melted[['pct', 'age', 'gender', 'level']] = melted['variable'].str.split('_', expand=True)\n",
    "\n",
    "melted = melted.drop(columns=['variable', 'pct'])\n",
    "\n",
    "melted.to_csv('insurance_type_clean.csv') "
   ]
  },
  {
   "cell_type": "code",
   "execution_count": null,
   "id": "046720eb-25b0-40a9-8253-a58ead77d4c3",
   "metadata": {},
   "outputs": [],
   "source": []
  }
 ],
 "metadata": {
  "kernelspec": {
   "display_name": "Python 3 (ipykernel)",
   "language": "python",
   "name": "python3"
  },
  "language_info": {
   "codemirror_mode": {
    "name": "ipython",
    "version": 3
   },
   "file_extension": ".py",
   "mimetype": "text/x-python",
   "name": "python",
   "nbconvert_exporter": "python",
   "pygments_lexer": "ipython3",
   "version": "3.12.3"
  }
 },
 "nbformat": 4,
 "nbformat_minor": 5
}
